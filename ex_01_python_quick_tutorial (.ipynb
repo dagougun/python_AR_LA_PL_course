{
 "cells": [
  {
   "cell_type": "code",
   "execution_count": 1,
   "id": "526d44c4-6146-4155-a24f-d6a4a837a6ff",
   "metadata": {},
   "outputs": [
    {
     "name": "stdout",
     "output_type": "stream",
     "text": [
      "Hello dagou hhhh\n"
     ]
    }
   ],
   "source": [
    "print(\"Hello dagou hhhh\")"
   ]
  },
  {
   "cell_type": "code",
   "execution_count": 2,
   "id": "ae26a14b-c805-430e-a0cd-ffbbbb1326f1",
   "metadata": {},
   "outputs": [
    {
     "name": "stdout",
     "output_type": "stream",
     "text": [
      "-198\n"
     ]
    }
   ],
   "source": [
    "print(1-199)"
   ]
  },
  {
   "cell_type": "code",
   "execution_count": 8,
   "id": "a252ffd6-2b05-4615-b95d-48c3937d1b1a",
   "metadata": {},
   "outputs": [
    {
     "name": "stdout",
     "output_type": "stream",
     "text": [
      "12\n"
     ]
    }
   ],
   "source": [
    "print(3*4)"
   ]
  },
  {
   "cell_type": "code",
   "execution_count": 3,
   "id": "ac395e2a-c7a7-4ef3-b419-83077f1f62a7",
   "metadata": {},
   "outputs": [
    {
     "name": "stdout",
     "output_type": "stream",
     "text": [
      "0.0017142857142857142\n"
     ]
    }
   ],
   "source": [
    "print( 6/3500)"
   ]
  },
  {
   "cell_type": "code",
   "execution_count": 44,
   "id": "4173822d-e336-45f0-ac23-456501504473",
   "metadata": {},
   "outputs": [
    {
     "name": "stdout",
     "output_type": "stream",
     "text": [
      "3\n"
     ]
    }
   ],
   "source": [
    "print( 9//3)"
   ]
  },
  {
   "cell_type": "code",
   "execution_count": 82,
   "id": "26c26a3d-f553-4775-a953-7e0951399510",
   "metadata": {},
   "outputs": [
    {
     "name": "stdout",
     "output_type": "stream",
     "text": [
      "1298074214633706907132624082305024\n"
     ]
    }
   ],
   "source": [
    "print(4**55)"
   ]
  },
  {
   "cell_type": "code",
   "execution_count": 13,
   "id": "f09c8693-2311-4a8a-94a0-4dda1a4fa2e6",
   "metadata": {},
   "outputs": [
    {
     "name": "stdout",
     "output_type": "stream",
     "text": [
      "1\n"
     ]
    }
   ],
   "source": [
    "print(4//3)"
   ]
  },
  {
   "cell_type": "code",
   "execution_count": 4,
   "id": "046fa32f-0bd2-481f-99db-e7d542ffd417",
   "metadata": {},
   "outputs": [],
   "source": [
    "work=[\"yijie\",\"erjie\",\"sanjie\",\"sijie\",\"wujie\"]"
   ]
  },
  {
   "cell_type": "code",
   "execution_count": 5,
   "id": "c10e756b-80ec-4926-ad7b-a8c00ca2fde2",
   "metadata": {},
   "outputs": [
    {
     "data": {
      "text/plain": [
       "['yijie', 'erjie', 'sanjie', 'sijie', 'wujie']"
      ]
     },
     "execution_count": 5,
     "metadata": {},
     "output_type": "execute_result"
    }
   ],
   "source": [
    "work"
   ]
  },
  {
   "cell_type": "code",
   "execution_count": 6,
   "id": "113e2b1e-c88b-4aa9-9aff-cffd96b2ef7c",
   "metadata": {},
   "outputs": [
    {
     "data": {
      "text/plain": [
       "'sijie'"
      ]
     },
     "execution_count": 6,
     "metadata": {},
     "output_type": "execute_result"
    }
   ],
   "source": [
    " work[3]"
   ]
  },
  {
   "cell_type": "code",
   "execution_count": 7,
   "id": "80ced993-010e-4902-8a74-aa3c6fc26303",
   "metadata": {},
   "outputs": [],
   "source": [
    "work. append(\"wujie\")"
   ]
  },
  {
   "cell_type": "code",
   "execution_count": 8,
   "id": "fc624979-3e32-47e0-b6a6-34e2f77f7287",
   "metadata": {},
   "outputs": [
    {
     "data": {
      "text/plain": [
       "['yijie', 'erjie', 'sanjie', 'sijie', 'wujie', 'wujie']"
      ]
     },
     "execution_count": 8,
     "metadata": {},
     "output_type": "execute_result"
    }
   ],
   "source": [
    "work"
   ]
  },
  {
   "cell_type": "code",
   "execution_count": 9,
   "id": "09010c98-640d-4a8c-b5d6-4b6f424afc13",
   "metadata": {},
   "outputs": [],
   "source": [
    "work.extend([\"liujie\",\"qijie\",\"bajie\"])"
   ]
  },
  {
   "cell_type": "code",
   "execution_count": 10,
   "id": "6a85940d-fdb0-414b-8d25-c1d3894293c3",
   "metadata": {},
   "outputs": [
    {
     "data": {
      "text/plain": [
       "['yijie',\n",
       " 'erjie',\n",
       " 'sanjie',\n",
       " 'sijie',\n",
       " 'wujie',\n",
       " 'wujie',\n",
       " 'liuye',\n",
       " 'qiye',\n",
       " 'baye']"
      ]
     },
     "execution_count": 10,
     "metadata": {},
     "output_type": "execute_result"
    }
   ],
   "source": [
    "work"
   ]
  },
  {
   "cell_type": "code",
   "execution_count": 11,
   "id": "87d205f4-2897-4e29-bbed-e6c8f75cafff",
   "metadata": {},
   "outputs": [
    {
     "name": "stdout",
     "output_type": "stream",
     "text": [
      "我们的员工有yijie和sijie\n"
     ]
    }
   ],
   "source": [
    "print(\"我们的员工有\"+work[0]+\"和\"+work[3])"
   ]
  },
  {
   "cell_type": "code",
   "execution_count": 14,
   "id": "5d059624-7c40-4dda-bfc4-e8dcd1dd63be",
   "metadata": {},
   "outputs": [],
   "source": [
    "work=[1,2,3,4,5,10]\n",
    "worker=[9,8,7,6]\n",
    "company=[work,worker]"
   ]
  },
  {
   "cell_type": "code",
   "execution_count": 15,
   "id": "7658edbd-6c13-41ad-bb45-3aa0c1b99f83",
   "metadata": {},
   "outputs": [],
   "source": [
    "work.sort(reverse=True)"
   ]
  },
  {
   "cell_type": "code",
   "execution_count": 16,
   "id": "fb27b494-d79c-4160-9176-fc70dccb7817",
   "metadata": {},
   "outputs": [
    {
     "data": {
      "text/plain": [
       "[10, 5, 4, 3, 2, 1]"
      ]
     },
     "execution_count": 16,
     "metadata": {},
     "output_type": "execute_result"
    }
   ],
   "source": [
    "work"
   ]
  },
  {
   "cell_type": "code",
   "execution_count": 15,
   "id": "d95a6122-6728-493a-b9dd-af7f0b7f2dd1",
   "metadata": {},
   "outputs": [
    {
     "name": "stdout",
     "output_type": "stream",
     "text": [
      "2021-11-08 01:28:07\n",
      "2021-11-08 01:28:08\n"
     ]
    }
   ],
   "source": [
    "#!/usr/bin/python\n",
    "# -*- coding: UTF-8 -*-\n",
    "import time\n",
    " \n",
    "print (time.strftime('%Y-%m-%d %H:%M:%S',time.localtime(time.time())))\n",
    " \n",
    "# 暂停一秒\n",
    "time.sleep(1)\n",
    " \n",
    "print (time.strftime('%Y-%m-%d %H:%M:%S',time.localtime(time.time())))"
   ]
  },
  {
   "cell_type": "code",
   "execution_count": null,
   "id": "ead48b14-a0c9-4615-a329-00fc005a2a40",
   "metadata": {
    "jupyter": {
     "source_hidden": true
    },
    "tags": []
   },
   "outputs": [],
   "source": []
  },
  {
   "cell_type": "code",
   "execution_count": 27,
   "id": "2ec63ec2-17f8-4d03-a852-045f38ba6039",
   "metadata": {},
   "outputs": [
    {
     "name": "stdout",
     "output_type": "stream",
     "text": [
      "The longitude of the xxx coordinate is 108.94, and the latitude is 34.261013.\n"
     ]
    }
   ],
   "source": [
    "city_name=\"xxx\"\n",
    "coordinate_longitude=108.942292\n",
    "coordiante_latitude=34.261013\n",
    "print(\"The longitude of the xxx coordinate is {lon:.2f}, and the latitude is {lat}.\".format(lon=coordinate_longitude,lat=coordiante_latitude))\n"
   ]
  },
  {
   "cell_type": "code",
   "execution_count": 33,
   "id": "05588222-f85d-47e9-a38c-a828cd284668",
   "metadata": {},
   "outputs": [
    {
     "name": "stdout",
     "output_type": "stream",
     "text": [
      "The name of xxx is 100.00,and the c is 500000.0. \n"
     ]
    }
   ],
   "source": [
    "a=\"xxx\"\n",
    "b=100.00\n",
    "c=500000.00\n",
    "print(\"The name of xxx is {lon:.2f},and the c is {lat}. \".format(lon=b,lat=c))"
   ]
  },
  {
   "cell_type": "code",
   "execution_count": 34,
   "id": "abef99b5-866c-43b3-ab39-9a810c0d89a4",
   "metadata": {},
   "outputs": [
    {
     "name": "stdout",
     "output_type": "stream",
     "text": [
      "abcef\n",
      "a a\n"
     ]
    }
   ],
   "source": [
    "abcd=\"abcef\"\n",
    "print(abcd)\n",
    "x=\"a\"\n",
    "y='a'\n",
    "print(x,y)"
   ]
  },
  {
   "cell_type": "code",
   "execution_count": 36,
   "id": "43e151c1-3b82-4800-8d6d-f2b2907070c8",
   "metadata": {},
   "outputs": [
    {
     "name": "stdout",
     "output_type": "stream",
     "text": [
      "[5, 14, 23, 32, 41, 50, 59, 68, 77, 86, 95, 104, 113, 122, 131, 140, 149, 158, 167, 176, 185, 194, 203, 212, 221, 230, 239, 248, 257, 266, 275, 284, 293, 302, 311, 320, 329, 338, 347, 356, 365, 374, 383, 392, 401, 410, 419, 428, 437, 446, 455, 464, 473, 482, 491, 500, 509, 518, 527, 536, 545, 554, 563, 572, 581, 590, 599, 608, 617, 626, 635, 644, 653, 662, 671, 680, 689, 698, 707, 716, 725, 734, 743, 752, 761, 770, 779, 788, 797, 806, 815, 824, 833, 842, 851, 860, 869, 878, 887, 896, 905, 914, 923, 932, 941, 950, 959, 968, 977, 986, 995, 1004, 1013, 1022, 1031, 1040, 1049, 1058, 1067, 1076, 1085, 1094, 1103, 1112, 1121, 1130, 1139, 1148, 1157, 1166, 1175, 1184, 1193, 1202, 1211, 1220, 1229, 1238, 1247, 1256, 1265, 1274]\n",
      "The list length=142\n",
      "Maximum value=1274\n",
      "Minimum value=5\n"
     ]
    }
   ],
   "source": [
    "lst_n=list(range(5,1283,9)) #建立列表。range(start,stop,[,step])建立区间。第一个开始，第二个结束，第三个是节点。\n",
    "print(lst_n)\n",
    "print(\"The list length={}\".format(len(lst_n)))\n",
    "print(\"Maximum value={}\".format(max(lst_n)))\n",
    "print(\"Minimum value={}\".format(min(lst_n)))"
   ]
  },
  {
   "cell_type": "code",
   "execution_count": 39,
   "id": "e78eddba-0f5f-4070-accb-06816b062c6c",
   "metadata": {},
   "outputs": [
    {
     "name": "stdout",
     "output_type": "stream",
     "text": [
      "['Z', '[', '\\\\', ']', '^', '_', '`', 'a', 'b', 'c', 'd', 'e', 'f', 'g', 'h', 'i', 'j', 'k', 'l', 'm', 'n', 'o', 'p', 'q', 'r', 's', 't', 'u', 'v', 'w', 'x', 'y', 'z', '{', '|', '}', '~', '\\x7f', '\\x80', '\\x81', '\\x82', '\\x83', '\\x84', '\\x85', '\\x86', '\\x87', '\\x88', '\\x89', '\\x8a', '\\x8b', '\\x8c', '\\x8d', '\\x8e', '\\x8f', '\\x90', '\\x91', '\\x92', '\\x93', '\\x94', '\\x95', '\\x96', '\\x97', '\\x98', '\\x99', '\\x9a', '\\x9b', '\\x9c', '\\x9d', '\\x9e', '\\x9f', '\\xa0', '¡', '¢', '£', '¤', '¥', '¦', '§', '¨', '©', 'ª', '«', '¬', '\\xad', '®', '¯', '°', '±', '²', '³', '´', 'µ', '¶', '·', '¸', '¹', 'º', '»', '¼', '½', '¾', '¿', 'À', 'Á', 'Â', 'Ã', 'Ä', 'Å', 'Æ', 'Ç', 'È', 'É', 'Ê', 'Ë', 'Ì', 'Í', 'Î', 'Ï', 'Ð', 'Ñ', 'Ò', 'Ó', 'Ô', 'Õ', 'Ö', '×', 'Ø', 'Ù', 'Ú', 'Û', 'Ü', 'Ý', 'Þ', 'ß', 'à', 'á', 'â', 'ã', 'ä', 'å', 'æ', 'ç', 'è', 'é', 'ê', 'ë', 'ì', 'í', 'î', 'ï', 'ð', 'ñ', 'ò', 'ó', 'ô', 'õ', 'ö', '÷', 'ø', 'ù', 'ú']\n",
      "________________________________________________________________________________________________________________________\n",
      "[3:6]->[']', '^', '_']\n",
      "[-3:-1]->['ø', 'ù']\n",
      "[-3:]->['ø', 'ù', 'ú']\n",
      "[:3]->['Z', '[', '\\\\']\n",
      "[:]->['Z', '[', '\\\\', ']', '^', '_', '`', 'a', 'b', 'c', 'd', 'e', 'f', 'g', 'h', 'i', 'j', 'k', 'l', 'm', 'n', 'o', 'p', 'q', 'r', 's', 't', 'u', 'v', 'w', 'x', 'y', 'z', '{', '|', '}', '~', '\\x7f', '\\x80', '\\x81', '\\x82', '\\x83', '\\x84', '\\x85', '\\x86', '\\x87', '\\x88', '\\x89', '\\x8a', '\\x8b', '\\x8c', '\\x8d', '\\x8e', '\\x8f', '\\x90', '\\x91', '\\x92', '\\x93', '\\x94', '\\x95', '\\x96', '\\x97', '\\x98', '\\x99', '\\x9a', '\\x9b', '\\x9c', '\\x9d', '\\x9e', '\\x9f', '\\xa0', '¡', '¢', '£', '¤', '¥', '¦', '§', '¨', '©', 'ª', '«', '¬', '\\xad', '®', '¯', '°', '±', '²', '³', '´', 'µ', '¶', '·', '¸', '¹', 'º', '»', '¼', '½', '¾', '¿', 'À', 'Á', 'Â', 'Ã', 'Ä', 'Å', 'Æ', 'Ç', 'È', 'É', 'Ê', 'Ë', 'Ì', 'Í', 'Î', 'Ï', 'Ð', 'Ñ', 'Ò', 'Ó', 'Ô', 'Õ', 'Ö', '×', 'Ø', 'Ù', 'Ú', 'Û', 'Ü', 'Ý', 'Þ', 'ß', 'à', 'á', 'â', 'ã', 'ä', 'å', 'æ', 'ç', 'è', 'é', 'ê', 'ë', 'ì', 'í', 'î', 'ï', 'ð', 'ñ', 'ò', 'ó', 'ô', 'õ', 'ö', '÷', 'ø', 'ù', 'ú']\n"
     ]
    }
   ],
   "source": [
    "lst_s=list(map(chr,range(90,251)))\n",
    "print(lst_s)\n",
    "print(\"_\"*120)\n",
    "print(\"[3:6]->{}\".format(lst_s[3:6]))\n",
    "print(\"[-3:-1]->{}\".format(lst_s[-3:-1]))\n",
    "print(\"[-3:]->{}\".format(lst_s[-3:]))\n",
    "print(\"[:3]->{}\".format(lst_s[:3]))\n",
    "print(\"[:]->{}\".format(lst_s[:]))"
   ]
  },
  {
   "cell_type": "code",
   "execution_count": 40,
   "id": "b20d0374-ddf4-4dcd-8eed-93cc17f9a0ae",
   "metadata": {},
   "outputs": [
    {
     "name": "stdout",
     "output_type": "stream",
     "text": [
      "Help on built-in function chr in module builtins:\n",
      "\n",
      "chr(i, /)\n",
      "    Return a Unicode string of one character with ordinal i; 0 <= i <= 0x10ffff.\n",
      "\n"
     ]
    }
   ],
   "source": [
    "help(chr)"
   ]
  },
  {
   "cell_type": "code",
   "execution_count": 41,
   "id": "ffd74b99-f5a5-4d57-a7f7-f7a25f083878",
   "metadata": {},
   "outputs": [
    {
     "name": "stdout",
     "output_type": "stream",
     "text": [
      "Help on class map in module builtins:\n",
      "\n",
      "class map(object)\n",
      " |  map(func, *iterables) --> map object\n",
      " |  \n",
      " |  Make an iterator that computes the function using arguments from\n",
      " |  each of the iterables.  Stops when the shortest iterable is exhausted.\n",
      " |  \n",
      " |  Methods defined here:\n",
      " |  \n",
      " |  __getattribute__(self, name, /)\n",
      " |      Return getattr(self, name).\n",
      " |  \n",
      " |  __iter__(self, /)\n",
      " |      Implement iter(self).\n",
      " |  \n",
      " |  __next__(self, /)\n",
      " |      Implement next(self).\n",
      " |  \n",
      " |  __reduce__(...)\n",
      " |      Return state information for pickling.\n",
      " |  \n",
      " |  ----------------------------------------------------------------------\n",
      " |  Static methods defined here:\n",
      " |  \n",
      " |  __new__(*args, **kwargs) from builtins.type\n",
      " |      Create and return a new object.  See help(type) for accurate signature.\n",
      "\n"
     ]
    }
   ],
   "source": [
    "help(map)"
   ]
  },
  {
   "cell_type": "code",
   "execution_count": 45,
   "id": "b38544fc-c65e-43c5-9aa0-8e54a7d44c38",
   "metadata": {},
   "outputs": [
    {
     "name": "stdout",
     "output_type": "stream",
     "text": [
      "1 2 3\n",
      "1 2 4\n",
      "1 3 2\n",
      "1 3 4\n",
      "1 4 2\n",
      "1 4 3\n",
      "1 5 2\n",
      "1 5 3\n",
      "1 5 4\n",
      "1 6 2\n",
      "1 6 3\n",
      "1 6 4\n",
      "1 7 2\n",
      "1 7 3\n",
      "1 7 4\n",
      "2 1 3\n",
      "2 1 4\n",
      "2 3 4\n",
      "2 4 3\n",
      "2 5 3\n",
      "2 5 4\n",
      "2 6 3\n",
      "2 6 4\n",
      "2 7 3\n",
      "2 7 4\n",
      "3 1 2\n",
      "3 1 4\n",
      "3 2 4\n",
      "3 4 2\n",
      "3 5 2\n",
      "3 5 4\n",
      "3 6 2\n",
      "3 6 4\n",
      "3 7 2\n",
      "3 7 4\n",
      "4 1 2\n",
      "4 1 3\n",
      "4 2 3\n",
      "4 3 2\n",
      "4 5 2\n",
      "4 5 3\n",
      "4 6 2\n",
      "4 6 3\n",
      "4 7 2\n",
      "4 7 3\n",
      "5 1 2\n",
      "5 1 3\n",
      "5 1 4\n",
      "5 2 3\n",
      "5 2 4\n",
      "5 3 2\n",
      "5 3 4\n",
      "5 4 2\n",
      "5 4 3\n",
      "5 6 2\n",
      "5 6 3\n",
      "5 6 4\n",
      "5 7 2\n",
      "5 7 3\n",
      "5 7 4\n",
      "6 1 2\n",
      "6 1 3\n",
      "6 1 4\n",
      "6 2 3\n",
      "6 2 4\n",
      "6 3 2\n",
      "6 3 4\n",
      "6 4 2\n",
      "6 4 3\n",
      "6 5 2\n",
      "6 5 3\n",
      "6 5 4\n",
      "6 7 2\n",
      "6 7 3\n",
      "6 7 4\n"
     ]
    }
   ],
   "source": [
    "#!/usr/bin/python\n",
    "# -*- coding: UTF-8 -*-\n",
    " \n",
    "for i in range(1,7):\n",
    "    for j in range(1,8):\n",
    "        for k in range(2,5):\n",
    "            if( i != k ) and (i != j) and (j != k):\n",
    "                print (i,j,k)"
   ]
  },
  {
   "cell_type": "code",
   "execution_count": 2,
   "id": "e2007b74-8745-4152-8512-f6ea8eee2b85",
   "metadata": {},
   "outputs": [
    {
     "name": "stdout",
     "output_type": "stream",
     "text": [
      "-99.0\n",
      "21.0\n",
      "261.0\n"
     ]
    }
   ],
   "source": [
    "#!/usr/bin/python\n",
    "# -*- coding: UTF-8 -*-\n",
    " \n",
    "for i in range(1,73):\n",
    "    if 168 % i == 0:\n",
    "        j = 168 / i;\n",
    "        if  i > j and (i + j) % 2 == 0 and (i - j) % 2 == 0 :\n",
    "            m = (i + j) / 2\n",
    "            n = (i - j) / 2\n",
    "            x = n * n - 100\n",
    "            print(x)"
   ]
  },
  {
   "cell_type": "code",
   "execution_count": 3,
   "id": "99f3b2db-36dc-4afd-a2d9-442b8e7a78da",
   "metadata": {},
   "outputs": [
    {
     "name": "stdin",
     "output_type": "stream",
     "text": [
      "year:\n",
      " 3\n",
      "month:\n",
      " 4\n",
      "day:\n",
      " 5\n"
     ]
    },
    {
     "name": "stdout",
     "output_type": "stream",
     "text": [
      "it is the 96th day.\n"
     ]
    }
   ],
   "source": [
    "#!/usr/bin/python3\n",
    " \n",
    "year = int(input('year:\\n'))\n",
    "month = int(input('month:\\n'))\n",
    "day = int(input('day:\\n'))\n",
    " \n",
    "months = (0,31,59,90,120,151,181,212,243,273,304,334)\n",
    "if 0 < month <= 12:\n",
    "    sum = months[month - 1]\n",
    "else:\n",
    "    print ('data error')\n",
    "sum += day\n",
    "leap = 1\n",
    "if (year % 400 == 0) or ((year % 4 == 0) and (year % 100 != 0)):\n",
    "    leap = 2\n",
    "if (leap == 1) and (month > 2):\n",
    "    sum += 1\n",
    "print ('it is the %dth day.' % sum)"
   ]
  },
  {
   "cell_type": "code",
   "execution_count": 4,
   "id": "3c9b612a-d56f-4936-8db0-e71a6becf5ad",
   "metadata": {},
   "outputs": [
    {
     "ename": "SyntaxError",
     "evalue": "invalid syntax (<ipython-input-4-d67df546ca23>, line 8)",
     "output_type": "error",
     "traceback": [
      "\u001b[1;36m  File \u001b[1;32m\"<ipython-input-4-d67df546ca23>\"\u001b[1;36m, line \u001b[1;32m8\u001b[0m\n\u001b[1;33m    l = []\u001b[0m\n\u001b[1;37m    ^\u001b[0m\n\u001b[1;31mSyntaxError\u001b[0m\u001b[1;31m:\u001b[0m invalid syntax\n"
     ]
    }
   ],
   "source": [
    "#!/usr/bin/python\n",
    "# -*- coding: UTF-8 -*-\n",
    " \n",
    "l = []\n",
    "for i in range(3):\n",
    "    x = int(ra#!/usr/bin/python3\n",
    " \n",
    "l = []\n",
    "for i in range(3):\n",
    "    x = int(input('integer:\\n'))\n",
    "    l.append(x)\n",
    "l.sort()\n",
    "print (l)w_input('integer:\\n'))\n",
    "    l.append(x)\n",
    "l.sort()\n",
    "print l#!/usr/bin/python3\n",
    " \n",
    "l = []\n",
    "for i in range(3):\n",
    "    x = int(input('integer:\\n'))\n",
    "    l.append(x)\n",
    "l.sort()\n",
    "print (l)"
   ]
  },
  {
   "cell_type": "code",
   "execution_count": 7,
   "id": "0aa1e836-74dc-40ca-9ecf-b30b09cf392c",
   "metadata": {},
   "outputs": [
    {
     "name": "stdout",
     "output_type": "stream",
     "text": [
      "[5, 8, 11, 14, 17]\n",
      "The list length=5\n",
      "Maximum value=17\n",
      "Minimum value=5\n"
     ]
    }
   ],
   "source": [
    "lst_n=list(range(5,20,3)) #建立列表。range(start,stop,[,step])建立区间。\n",
    "print(lst_n)\n",
    "print(\"The list length={}\".format(len(lst_n)))\n",
    "print(\"Maximum value={}\".format(max(lst_n)))\n",
    "print(\"Minimum value={}\".format(min(lst_n)))\n"
   ]
  },
  {
   "cell_type": "code",
   "execution_count": 8,
   "id": "876931ca-3d9b-40ac-9783-ed7d73f49a36",
   "metadata": {},
   "outputs": [
    {
     "name": "stdout",
     "output_type": "stream",
     "text": [
      "[5, 8, 11, 14, 17]\n",
      "__________________________________________________\n",
      "[0:10:2]->[5, 11, 17]\n",
      "[::3]->[5, 14]\n",
      "[9:3:-2]->[17]\n",
      "[20:3:-2]->[17]\n",
      "[7::-2]->[17, 11, 5]\n",
      "[:3:-2]->[17]\n"
     ]
    }
   ],
   "source": [
    "print(lst_n)\n",
    "print(\"_\"*50)\n",
    "print(\"[0:10:2]->{}\".format(lst_n[0:10:2]))\n",
    "print(\"[::3]->{}\".format(lst_n[::3]))\n",
    "print(\"[9:3:-2]->{}\".format(lst_n[9:3:-2]))\n",
    "print(\"[20:3:-2]->{}\".format(lst_n[20:3:-2]))\n",
    "print(\"[7::-2]->{}\".format(lst_n[7::-2]))\n",
    "print(\"[:3:-2]->{}\".format(lst_n[:3:-2]))\n"
   ]
  },
  {
   "cell_type": "code",
   "execution_count": 9,
   "id": "75b75498-ee02-4f87-b68a-3b3fdd71c03e",
   "metadata": {},
   "outputs": [
    {
     "name": "stdout",
     "output_type": "stream",
     "text": [
      "[5, 8, 11, 14, 17]\n",
      "____________________________________________________________________________________________________\n",
      "[0:8:2]->[5, 11, 17]\n",
      "[::3]->[5, 14]\n",
      "[9:3:-2]->[17]\n",
      "[20:3:-2]->[17]\n",
      "[7::-2]->[17, 11, 5]\n",
      "[:3:-2]->[17]\n"
     ]
    }
   ],
   "source": [
    "\n",
    "print(lst_n)#第一个是0,01234，最后一个是-1，区间左闭右开\n",
    "print(\"_\"*100)\n",
    "print(\"[0:8:2]->{}\".format(lst_n[0:10:2]))\n",
    "print(\"[::3]->{}\".format(lst_n[::3]))\n",
    "print(\"[9:3:-2]->{}\".format(lst_n[9:3:-2]))\n",
    "print(\"[20:3:-2]->{}\".format(lst_n[20:3:-2]))\n",
    "print(\"[7::-2]->{}\".format(lst_n[7::-2]))\n",
    "print(\"[:3:-2]->{}\".format(lst_n[:3:-2]))"
   ]
  },
  {
   "cell_type": "code",
   "execution_count": 11,
   "id": "efd78a9c-b2b6-4718-a6ec-07d5fa9f9e38",
   "metadata": {},
   "outputs": [
    {
     "name": "stdout",
     "output_type": "stream",
     "text": [
      "tuple_1=2,3,5,7->(2, 3, 4, 5, 6, 7, 8, 9, 10, 11, 12)\n",
      "3*(20*3,)->(60, 60, 60, 60, 60)\n",
      "tuple((5,8,9))->(5, 8, 9)\n",
      "tuple([5,8,9])->(5, 8, 9)\n"
     ]
    }
   ],
   "source": [
    "tuple_1=2,3,4,5,6,7,8,9,10,11,12\n",
    "print(\"tuple_1=2,3,5,7->{}\".format(tuple_1))\n",
    "print(\"3*(20*3,)->{}\".format(5*(20*3,)))\n",
    "print(\"tuple((5,8,9))->{}\".format(tuple((5,8,9)))) #用()\n",
    "print(\"tuple([5,8,9])->{}\".format(tuple([5,8,9]))) #用[]\n"
   ]
  },
  {
   "cell_type": "code",
   "execution_count": 12,
   "id": "6461b07f-3679-4242-ab17-2938d34d83ff",
   "metadata": {},
   "outputs": [
    {
     "name": "stdout",
     "output_type": "stream",
     "text": [
      "items->[(1, [0, 1, 2, 3]), (2, [[159, 190, 165]]), (2, 'python')]\n",
      "dic=dict(items)->{1: [0, 1, 2, 3], 2: 'python'}\n",
      "dic[2]->[0, 1, 2, 3]\n"
     ]
    }
   ],
   "source": [
    "import random\n",
    "items=[(1,[i for i in range(4)]),(2,[random.sample(list(range(100,200,1)),3)]),(2,'python')] #[i for i in range(5)] 为列表推导式 list comprehension/derivation\n",
    "print(\"items->{}\".format(items))\n",
    "dic=dict(items)\n",
    "print(\"dic=dict(items)->{}\".format(dic))\n",
    "print(\"dic[2]->{}\".format(dic[1]))"
   ]
  },
  {
   "cell_type": "code",
   "execution_count": 125,
   "id": "d360fdc1-ad4d-4f2a-899e-7c5ca9a3f057",
   "metadata": {},
   "outputs": [
    {
     "name": "stdout",
     "output_type": "stream",
     "text": [
      "len(dic)->2\n",
      "dic[0]=(random.random(),random.uniform(200,300))->{2: 'python', 3: (0.7388103656649193, 274.931422264806)}\n"
     ]
    }
   ],
   "source": [
    "print(\"len(dic)->{}\".format(len(dic)))\n",
    "dic[3]=(random.random(),random.uniform(200,300))\n",
    "print(\"dic[0]=(random.random(),random.uniform(200,300))->{}\".format(dic))\n"
   ]
  },
  {
   "cell_type": "code",
   "execution_count": 21,
   "id": "a914891d-6f3b-47ca-b305-149166805771",
   "metadata": {},
   "outputs": [
    {
     "name": "stdout",
     "output_type": "stream",
     "text": [
      "lst_A=[1, 58, 115, 172],lst_B=[30, 72, 114, 156, 198, 240, 282, 324, 366, 408, 450, 492, 534, 576, 618, 660, 702, 744]\n",
      "dic_2={0: [1, 58, 115, 172], 1: [30, 72, 114, 156, 198, 240, 282, 324, 366, 408, 450, 492, 534, 576, 618, 660, 702, 744]}\n",
      "____________________________________________________________________________________________________________________________________\n",
      "dic_assignment={0: [1, 58, 115, 172], 1: [30, 72, 114, 156, 198, 240, 282, 324, 366, 408, 450, 492, 534, 576, 618, 660, 702, 744]}\n",
      "dic_2.clear()->{}\n",
      "dic_assignment={}\n",
      "dic_2[5]=list(range(1,9,2))->{5: [1, 31, 61]}\n",
      "dic_copy=dic_2.copy()->{5: [1, 31, 61]}\n",
      "dic_2[8]=[5,7]->{5: [1, 31, 61], 8: [5, 7]}\n",
      "dic_copy={5: [1, 31, 61]}\n"
     ]
    },
    {
     "ename": "ValueError",
     "evalue": "list.remove(x): x not in list",
     "output_type": "error",
     "traceback": [
      "\u001b[1;31m---------------------------------------------------------------------------\u001b[0m",
      "\u001b[1;31mValueError\u001b[0m                                Traceback (most recent call last)",
      "\u001b[1;32m<ipython-input-21-0e88bbcd4881>\u001b[0m in \u001b[0;36m<module>\u001b[1;34m\u001b[0m\n\u001b[0;32m     17\u001b[0m \u001b[0mprint\u001b[0m\u001b[1;33m(\u001b[0m\u001b[1;34m\"dic_2[8]=[5,7]->{}\"\u001b[0m\u001b[1;33m.\u001b[0m\u001b[0mformat\u001b[0m\u001b[1;33m(\u001b[0m\u001b[0mdic_2\u001b[0m\u001b[1;33m)\u001b[0m\u001b[1;33m)\u001b[0m\u001b[1;33m\u001b[0m\u001b[1;33m\u001b[0m\u001b[0m\n\u001b[0;32m     18\u001b[0m \u001b[0mprint\u001b[0m\u001b[1;33m(\u001b[0m\u001b[1;34m\"dic_copy={}\"\u001b[0m\u001b[1;33m.\u001b[0m\u001b[0mformat\u001b[0m\u001b[1;33m(\u001b[0m\u001b[0mdic_copy\u001b[0m\u001b[1;33m)\u001b[0m\u001b[1;33m)\u001b[0m\u001b[1;33m\u001b[0m\u001b[1;33m\u001b[0m\u001b[0m\n\u001b[1;32m---> 19\u001b[1;33m \u001b[0mdic_copy\u001b[0m\u001b[1;33m[\u001b[0m\u001b[1;36m5\u001b[0m\u001b[1;33m]\u001b[0m\u001b[1;33m.\u001b[0m\u001b[0mremove\u001b[0m\u001b[1;33m(\u001b[0m\u001b[1;36m5\u001b[0m\u001b[1;33m)\u001b[0m\u001b[1;33m\u001b[0m\u001b[1;33m\u001b[0m\u001b[0m\n\u001b[0m\u001b[0;32m     20\u001b[0m \u001b[0mprint\u001b[0m\u001b[1;33m(\u001b[0m\u001b[1;34m\"dic_copy[5].remove(5)->{}\"\u001b[0m\u001b[1;33m.\u001b[0m\u001b[0mformat\u001b[0m\u001b[1;33m(\u001b[0m\u001b[0mdic_copy\u001b[0m\u001b[1;33m)\u001b[0m\u001b[1;33m)\u001b[0m\u001b[1;33m\u001b[0m\u001b[1;33m\u001b[0m\u001b[0m\n\u001b[0;32m     21\u001b[0m \u001b[0mdic_copy\u001b[0m\u001b[1;33m.\u001b[0m\u001b[0msetdefault\u001b[0m\u001b[1;33m(\u001b[0m\u001b[1;33m[\u001b[0m\u001b[1;36m6\u001b[0m\u001b[1;33m,\u001b[0m\u001b[1;36m77\u001b[0m\u001b[1;33m,\u001b[0m\u001b[1;36m99\u001b[0m\u001b[1;33m]\u001b[0m\u001b[1;33m)\u001b[0m \u001b[1;31m#返回指定键的值，如果不存在该键，则字典增加新的键/值对\u001b[0m\u001b[1;33m\u001b[0m\u001b[1;33m\u001b[0m\u001b[0m\n",
      "\u001b[1;31mValueError\u001b[0m: list.remove(x): x not in list"
     ]
    }
   ],
   "source": [
    "lst_A=list(range(1,179,57))\n",
    "lst_B=list(range(30,750,42))\n",
    "print(\"lst_A={},lst_B={}\".format(lst_A,lst_B))\n",
    "dic_2={0:lst_A,1:lst_B}\n",
    "print(\"dic_2={}\".format(dic_2))\n",
    "print(\"_\"*132)\n",
    "dic_assignment=dic_2\n",
    "print(\"dic_assignment={}\".format(dic_assignment))\n",
    "dic_2.clear()\n",
    "print(\"dic_2.clear()->{}\".format(dic_2))\n",
    "print(\"dic_assignment={}\".format(dic_assignment))\n",
    "dic_2[5]=list(range(1,90,30))\n",
    "print(\"dic_2[5]=list(range(1,9,2))->{}\".format(dic_2))\n",
    "dic_copy=dic_2.copy()\n",
    "print(\"dic_copy=dic_2.copy()->{}\".format(dic_copy))\n",
    "dic_2[8]=[5,7]\n",
    "print(\"dic_2[8]=[5,7]->{}\".format(dic_2))\n",
    "print(\"dic_copy={}\".format(dic_copy))\n",
    "dic_copy[5].remove(5)\n",
    "print(\"dic_copy[5].remove(5)->{}\".format(dic_copy))\n",
    "dic_copy.setdefault([6,77,99]) #返回指定键的值，如果不存在该键，则字典增加新的键/值对\n",
    "print(\"dic_copy.setdefault(6,[77,99])->{}\".format(dic_copy))\n",
    "dic_2.pop(5) #移除指定键/值，并返回该值\n",
    "print(\"dic_2.pop(5)->{}\".format(dic_2))\n",
    "dic_update={8:[5,7,6,3,2],9:[3,2,33,55,66]}\n",
    "print(\"dic_update={}\".format(dic_update))\n",
    "dic_2.update(dic_update) #更新字典\n",
    "print(\"dic_2.update(dic_update->{}\".format(dic_2))\n",
    "print(\"dic_2.get(9)->{}\".format(dic_2.get(9)))\n",
    "dic_2.popitem() #随即弹出一对键/值，并在该字典中移除\n",
    "print(\"dic_2.popitem()->{}\".format(dic_2))\n",
    "\n",
    "dic_3={}.fromkeys([0,1,2,3,4,'A']) #给定键，建立值为空的字典\n",
    "print(\"dic_3={}\"+\".fromkeys([0,1,2,3,4,'A'])->{}\".format(dic_3)) #找下escape characters 脱字符\n"
   ]
  },
  {
   "cell_type": "code",
   "execution_count": 28,
   "id": "34d32b67-584a-4585-a8d0-f5567503802a",
   "metadata": {},
   "outputs": [
    {
     "name": "stdout",
     "output_type": "stream",
     "text": [
      "lst_s_3=list(\"xh!\")->['x', 'h', 'j', 'x', 'h', 'k', 's', 'h', 'k']\n",
      "\"wa\"+\"yu\"->xgg xjj!\n",
      "\"+\".join(str(123456))->1+2+3+4+5+6\n",
      "len(\"Hellow Python!\")->7\n",
      "coordinates.split(\",\")->['120.132007', '30.300508', '9.7']\n",
      "eval(coordinates)->(120.132007, 30.300508, 9.7)\n",
      "\"Hello dagou!\".lower()->hello dagou!\n",
      "\"Hello dagou!\".upper()->HELLO DAGOU!\n",
      "\"Hello dagou!\"[6:]->dagou!\n",
      "\"    Hello dagou!    \".strip()->Hello dagou!\n",
      "\"Hello dagou!\".replace(\"Python\",\"Grasshopper\")->Hello dagou!\n",
      "hello_lst.sort()>['!', '9', 'i', 'm', 'n']\n",
      "\"Hello Python!\".find(\"Py\")->-1\n"
     ]
    }
   ],
   "source": [
    "lst_s_3=list(\"xhjxhkshk\")\n",
    "print(\"lst_s_3=list(\\\"xh!\\\")->{}\".format(lst_s_3)) #\"\\\" escape character\n",
    "print(\"\\\"wa\\\"+\\\"yu\\\"->{}\".format(\"xgg\"+\" xjj!\"))\n",
    "print(\"\\\"+\\\".join(str(123456))->{}\".format(\"+\".join(str(123456))))\n",
    "print(\"len(\\\"Hellow Python!\\\")->{}\".format(len(\"wuyuzo!\")))\n",
    "coordinates=\"120.132007,30.300508,9.7\"\n",
    "print(\"coordinates.split(\\\",\\\")->{}\".format(coordinates.split(\",\")))\n",
    "print(\"eval(coordinates)->{}\".format(eval(coordinates))) #通常用eval()方法将字符串，转换为对应数值形式；\n",
    "print(\"\\\"Hello dagou!\\\".lower()->{}\".format(\"Hello dagou!\".lower()))\n",
    "print(\"\\\"Hello dagou!\\\".upper()->{}\".format(\"Hello dagou!\".upper()))\n",
    "print(\"\\\"Hello dagou!\\\"[6:]->{}\".format(\"Hello dagou!\"[6:]))\n",
    "print(\"\\\"    Hello dagou!    \\\".strip()->{}\".format(\"    Hello dagou!    \".strip()))\n",
    "print(\"\\\"Hello dagou!\\\".replace(\\\"Python\\\",\\\"Grasshopper\\\")->{}\".format(\"Hello dagou!\".replace(\"Python\",\"Grasshopper\")))\n",
    "hello_lst=list(\"9min!\")\n",
    "hello_lst.sort()\n",
    "print(\"hello_lst.sort()>{}\".format(hello_lst))\n",
    "print(\"\\\"Hello Python!\\\".find(\\\"Py\\\")->{}\".format(\"Hello 9min!\".find(\"Py\")))"
   ]
  },
  {
   "cell_type": "code",
   "execution_count": 32,
   "id": "cd27757b-5704-4d63-9ec0-a150615eb05c",
   "metadata": {},
   "outputs": [
    {
     "name": "stdout",
     "output_type": "stream",
     "text": [
      "new_str=format_str % values->9min,9 and min!\n",
      "new_str_2=format_str_2 % (pi,3.1415926)->Pi with three decimals:3.142,and enter a value with percent sign:3.14 %\n"
     ]
    }
   ],
   "source": [
    "format_str=\"9min,%s and %s!\"#d,i带符号的十进制整数\n",
    "values=(\"9\",\"min\")\n",
    "new_str=format_str % values\n",
    "print(\"new_str=format_str % values->{}\".format(new_str))\n",
    "\n",
    "format_str_2=\"Pi with three decimals:%.3f,and enter a value with percent sign:%.2f %%\"\n",
    "from math import pi\n",
    "new_str_2=format_str_2 % (pi,3.1415926)\n",
    "print(\"new_str_2=format_str_2 % (pi,3.1415926)->{}\".format(new_str_2))\n"
   ]
  },
  {
   "cell_type": "code",
   "execution_count": 34,
   "id": "deaca4c6-c541-4ae4-a29d-f979b33a0983",
   "metadata": {},
   "outputs": [
    {
     "name": "stdout",
     "output_type": "stream",
     "text": [
      "  3.141593,      3.14,3.14,Hello,Hello,25,43,3.141593\n"
     ]
    }
   ],
   "source": [
    "format_str_3=\"%10f,%10.2f,%.2f,%.5s,%.*s,%d,%x,%f\"#\n",
    "new_str_3=format_str_3%(pi,pi,pi,\"Hello Python!\",5,\"Hello Python!\",25,67,pi)\n",
    "print(\"{}\".format(new_str_3))\n"
   ]
  },
  {
   "cell_type": "code",
   "execution_count": 138,
   "id": "26e09807-5700-46c3-bcda-c7e30b228fef",
   "metadata": {},
   "outputs": [
    {
     "name": "stdout",
     "output_type": "stream",
     "text": [
      "s_1=s_template_1.substitute(x=\"Python\")->Python,glorious,Python!\n",
      "s_2=s_template_2.substitute(x=\"py\")->python is amazing!\n",
      "substitute_dict={'x': 'Python', 'y': 'Grasshopper'}\n",
      "s_3=s_template_3.substitute(substitute_dict)->Python and Grasshopper are both amazing!\n"
     ]
    }
   ],
   "source": [
    "from string import Template\n",
    "s_template_1=Template(\"$x,glorious,$x!\")\n",
    "s_1=s_template_1.substitute(x=\"Python\")\n",
    "print(\"s_1=s_template_1.substitute(x=\\\"Python\\\")->{}\".format(s_1))\n",
    "s_template_2=Template(\"${x}thon is amazing!\")\n",
    "s_2=s_template_2.substitute(x=\"py\")\n",
    "print(\"s_2=s_template_2.substitute(x=\\\"py\\\")->{}\".format(s_2))\n",
    "s_template_3=Template(\"$x and $y are both amazing!\")\n",
    "substitute_dict=dict([('x','Python'),('y','Grasshopper')])\n",
    "print(\"substitute_dict={}\".format(substitute_dict))\n",
    "s_3=s_template_3.substitute(substitute_dict)\n",
    "print(\"s_3=s_template_3.substitute(substitute_dict)->{}\".format(s_3))\n"
   ]
  },
  {
   "cell_type": "code",
   "execution_count": 37,
   "id": "577e8f32-83e7-4ad7-92d9-9a78072e53fe",
   "metadata": {},
   "outputs": [
    {
     "name": "stdout",
     "output_type": "stream",
     "text": [
      "re.findall(pattern_1,text)->['9min']\n",
      "re.findall(pattern_2,text)->[]\n"
     ]
    }
   ],
   "source": [
    "import re\n",
    "pattern_1='9min'\n",
    "text=\"hen9min!\"\n",
    "print(\"re.findall(pattern_1,text)->{}\".format(re.findall(pattern_1,text)))\n",
    "pattern_2='dagou'\n",
    "print(\"re.findall(pattern_2,text)->{}\".format(re.findall(pattern_2,text)))\n"
   ]
  },
  {
   "cell_type": "code",
   "execution_count": 53,
   "id": "2452cdd1-5ee5-4624-a754-e0c32556d685",
   "metadata": {},
   "outputs": [
    {
     "name": "stdout",
     "output_type": "stream",
     "text": [
      "re.findall('9','9!')->[]\n",
      "re.findall('9','9!')->[]\n",
      "re.findall('9','9!')->[]\n",
      "re.findall('9','9!')->[]\n"
     ]
    }
   ],
   "source": [
    "print(\"re.findall('9','9!')->{}\".format(re.findall('9','hhh!')))\n",
    "print(\"re.findall('9','9!')->{}\".format(re.findall('9','hhh!')))\n",
    "print(\"re.findall('9','9!')->{}\".format(re.findall('9','hhh!')))\n",
    "print(\"re.findall('9','9!')->{}\".format(re.findall('9','hhh!')))\n"
   ]
  },
  {
   "cell_type": "code",
   "execution_count": 55,
   "id": "95210a3a-4759-400a-868c-479d850e16e9",
   "metadata": {},
   "outputs": [
    {
     "name": "stdout",
     "output_type": "stream",
     "text": [
      "hh(r'w?cadesign\\.cn,w+\\.cadesign\\.cn','cadesign.cn,www.cadesign.cn')->['cadesign.cn,www.cadesign.cn']\n",
      "hh(r'w{2}\\.cadesign\\.cn','www.cadesign.cn')->['ww.cadesign.cn']\n",
      "hh(r'w{1,3}\\.cadesign\\.cn','www.cadesign.cn')->['www.cadesign.cn']\n"
     ]
    }
   ],
   "source": [
    "print(\"hh(r'w?cadesign\\.cn,w+\\.cadesign\\.cn','cadesign.cn,www.cadesign.cn')->{}\".format(re.findall(r'w?cadesign\\.cn,w+\\.cadesign\\.cn','cadesign.cn,www.cadesign.cn')))\n",
    "print(\"hh(r'w{2}\"+\"\\.cadesign\\.cn','www.cadesign.cn')->{}\".format(re.findall(r'w{2}\\.cadesign\\.cn','www.cadesign.cn')))\n",
    "print(\"hh(r'w{1,3}\"+\"\\.cadesign\\.cn','www.cadesign.cn')->{}\".format(re.findall(r'w{1,3}\\.cadesign\\.cn','www.cadesign.cn')))\n"
   ]
  },
  {
   "cell_type": "code",
   "execution_count": 59,
   "id": "0f39bcc2-bfb8-47e0-8c66-640038ec7901",
   "metadata": {},
   "outputs": [
    {
     "name": "stdout",
     "output_type": "stream",
     "text": [
      "re.findall('\\d','number=10')->['7']\n",
      "re.findall('\\D','number=10')->['n', 'u', 'm', 'b', 'e', 'r', '=']\n",
      "re.findall('[^0-9]','number=10')->['n', 'u', 'm', 'b', 'e', 'r', '=']\n"
     ]
    }
   ],
   "source": [
    "print(\"re.findall('\\d','number=10')->{}\".format(re.findall('\\d','number=7')))\n",
    "print(\"re.findall('\\D','number=10')->{}\".format(re.findall('\\D','number=2890')))\n",
    "print(\"re.findall('[^0-9]','number=10')->{}\".format(re.findall('[^0-9]','number=379')))\n"
   ]
  },
  {
   "cell_type": "code",
   "execution_count": 70,
   "id": "b839943a-e5c6-4f5d-9b5f-f1c882aeedaa",
   "metadata": {},
   "outputs": [
    {
     "name": "stdout",
     "output_type": "stream",
     "text": [
      "re.findall('[a-z]','hhhh')->['p', 'y', 't', 'h', 'o', 'n']\n",
      "re.search('[a-z]+','hhhh')-><re.Match object; span=(0, 6), match='python'>\n",
      "re.search('[a-z]+','hhhh')->found it!\n",
      "re.split(',','Hello,,,,,,hhhh!')->['Hello', '', '', '', '', '', 'hhhh!']\n",
      "re.sub('Python','Grasshopper','Hello Python!')->Hello Python!\n",
      "pattern_compile.findall('Hello,,,,,,hhhh')->['hhhh']\n"
     ]
    }
   ],
   "source": [
    "print(\"re.findall('[a-z]','hhhh')->{}\".format(re.findall('[a-z]','python-3.0')))\n",
    "print(\"re.search('[a-z]+','hhhh')->{}\".format(re.search('[a-z]+','python')))\n",
    "if re.search('[a-z]+','hhhh'):\n",
    "    print(\"re.search('[a-z]+','hhhh')->found it!\")\n",
    "print(\"re.split(',','Hello,,,,,,hhhh!')->{}\".format(re.split(',','Hello,,,,,,hhhh!')))\n",
    "print(\"re.sub('Python','Grasshopper','Hello Python!')->{}\".format(re.sub('hhhh','Grasshopper','Hello Python!')))\n",
    "\n",
    "pattern_compile=re.compile('hhhh')\n",
    "print(\"pattern_compile.findall('Hello,,,,,,hhhh')->{}\".format(pattern_compile.findall('Hello,,,,,,hhhh!')))\n",
    "\n",
    "if re.match('p','hhhh'):\n",
    "    print(\"re.match('p','python')->found xiaoe\")\n"
   ]
  },
  {
   "cell_type": "code",
   "execution_count": 74,
   "id": "78e6f371-e71f-40ae-9ebc-43d58b5524f4",
   "metadata": {},
   "outputs": [
    {
     "name": "stdout",
     "output_type": "stream",
     "text": [
      "'dagou'.find('python')->-1\n",
      "'dagou'.find('thon')->-1\n",
      "'dagou'.find('a')->-1\n",
      "'p' in 'python'->True\n"
     ]
    }
   ],
   "source": [
    "print(\"\\'dagou\\'.find(\\'python\\')->{}\".format('hhhhh'.find('pythonhh')))\n",
    "print(\"\\'dagou\\'.find(\\'thon\\')->{}\".format('python'.find('thn')))\n",
    "print(\"\\'dagou\\'.find(\\'a\\')->{}\".format('python'.find('a')))\n",
    "print(\"\\'p\\' in \\'python\\'->{}\".format('p' in 'pyon'))\n"
   ]
  },
  {
   "cell_type": "code",
   "execution_count": 117,
   "id": "8ad76d8c-c12d-4a99-a11f-25fd263364c3",
   "metadata": {},
   "outputs": [
    {
     "name": "stdout",
     "output_type": "stream",
     "text": [
      "'wayu'.split(',')->['Hello', '', '', '', '', '', 'Python!']\n",
      "'wayu'.replace('Python','Grasshopper')->Hello dagou!\n"
     ]
    }
   ],
   "source": [
    "print(\"\\'wayu\\'.split(',')->{}\".format( 'Hello,,,,,,Python!'.split(',')))\n",
    "print(\"\\'wayu\\'.replace(\\'Python\\',\\'Grasshopper\\')->{}\".format( 'Hello dagou!'.replace('Python','Grasshopper')))\n"
   ]
  },
  {
   "cell_type": "code",
   "execution_count": 77,
   "id": "b31017ac-5e08-40f9-9660-12b083021fa2",
   "metadata": {},
   "outputs": [
    {
     "name": "stdout",
     "output_type": "stream",
     "text": [
      "lst_1=[7, 51, 95, 139, 183, 227, 271, 315, 359, 403, 447, 491, 535, 579]\n",
      "_________________________________________________________________________\n",
      "for i in lst_1:\n",
      "7\n",
      "51\n",
      "95\n",
      "139\n",
      "183\n",
      "227\n",
      "271\n",
      "315\n",
      "359\n",
      "403\n",
      "447\n",
      "491\n",
      "535\n",
      "579\n",
      "for i in range(len(lst_1)):\n",
      "idx=0,val=7\n",
      "idx=1,val=51\n",
      "idx=2,val=95\n",
      "idx=3,val=139\n",
      "idx=4,val=183\n",
      "idx=5,val=227\n",
      "idx=6,val=271\n",
      "idx=7,val=315\n",
      "idx=8,val=359\n",
      "idx=9,val=403\n",
      "idx=10,val=447\n",
      "idx=11,val=491\n",
      "idx=12,val=535\n",
      "idx=13,val=579\n",
      "++++++++++++++++++++++++++++++++++++\n",
      "dic_4={'a': 2, 'b': 3, 'c': 6, 'd': 0}\n",
      "__________________________________________________\n",
      "for k in dic_4:\n",
      "a\n",
      "b\n",
      "c\n",
      "d\n",
      "for k,v in dic_4.items():\n",
      "key=a,val=2\n",
      "key=b,val=3\n",
      "key=c,val=6\n",
      "key=d,val=0\n"
     ]
    }
   ],
   "source": [
    "lst_1=list(range(7,612,44))\n",
    "print(\"lst_1={}\".format(lst_1))\n",
    "print(\"_\"*73)\n",
    "print(\"for i in lst_1:\")\n",
    "for i in lst_1:\n",
    "    print(i)\n",
    "print(\"for i in range(len(lst_1)):\")\n",
    "for i in range(len(lst_1)):\n",
    "    print(\"idx={},val={}\".format(i,lst_1[i]))\n",
    "print(\"+\"*36)   \n",
    "dic_4=dict(a=2,b=3,c=6,d=0)\n",
    "print(\"dic_4={}\".format(dic_4))\n",
    "print(\"_\"*50)\n",
    "print(\"for k in dic_4:\")\n",
    "for k in dic_4:\n",
    "    print(k)\n",
    "print(\"for k,v in dic_4.items():\")\n",
    "for k,v in dic_4.items():\n",
    "    print(\"key={},val={}\".format(k,v))\n"
   ]
  },
  {
   "cell_type": "code",
   "execution_count": 79,
   "id": "cc7bf381-846e-4414-9e28-ba626afd74bf",
   "metadata": {},
   "outputs": [
    {
     "name": "stdout",
     "output_type": "stream",
     "text": [
      "x=5\n",
      "x=61\n",
      "x=117\n"
     ]
    }
   ],
   "source": [
    "x=5\n",
    "while x<=134:\n",
    "    print(\"x={}\".format(x))\n",
    "    x+=56 #增量赋值; x*=2     \n"
   ]
  },
  {
   "cell_type": "code",
   "execution_count": 178,
   "id": "665022f6-63e9-4cca-8bf3-29d8f7a805fb",
   "metadata": {},
   "outputs": [
    {
     "name": "stdout",
     "output_type": "stream",
     "text": [
      "x=1\n",
      "sys.maxsize=9223372036854775807\n",
      "i=0\n"
     ]
    }
   ],
   "source": [
    "x=1\n",
    "while x<=10000:\n",
    "    print(\"x={}\".format(x))\n",
    "    x+=1000\n",
    "    if x>=50:break    \n",
    "    \n",
    "import sys\n",
    "print(\"sys.maxsize={}\".format(sys.maxsize))\n",
    "for i in range(sys.maxsize):\n",
    "    print(\"i={}\".format(i))  #?\n",
    "    i+=100\n",
    "    if i>=30:break\n"
   ]
  },
  {
   "cell_type": "code",
   "execution_count": 80,
   "id": "89579e98-2a6b-4d60-8ddb-b4201dd17672",
   "metadata": {},
   "outputs": [
    {
     "name": "stdout",
     "output_type": "stream",
     "text": [
      "zip_lst=zip(lst_a,lst_b)-><zip object at 0x0000025E84F1BD40>\n",
      "dict(zip_lst)->{0: 'point_a', 1: 'point_b', 2: 'point_c', 3: 'point_d'}\n",
      "0 point_a\n",
      "1 point_b\n",
      "2 point_c\n",
      "3 point_d\n",
      "a=(0, 1, 2, 3),b=('point_a', 'point_b', 'point_c', 'point_d')\n"
     ]
    }
   ],
   "source": [
    "lst_a=[0,1,2,3,4,5,6,7,8,9,10,11,12,13,14,15]\n",
    "lst_b=['point_a','point_b','point_c','point_d']\n",
    "zip_lst=zip(lst_a,lst_b) #The zip() function takes iterables (can be zero or more), aggregates them in a tuple, and returns it.\n",
    "print(\"zip_lst=zip(lst_a,lst_b)->{}\".format(zip_lst))\n",
    "print(\"dict(zip_lst)->{}\".format(dict(zip_lst)))\n",
    "\n",
    "zip_lst=zip(lst_a,lst_b) #迭代对象临时存储，读取完后为空\n",
    "for a,b in zip_lst:\n",
    "    print(a,b)\n",
    "    \n",
    "zip_lst=zip(lst_a,lst_b)\n",
    "a,b=zip(*zip_lst)\n",
    "print(\"a={},b={}\".format(a,b))\n"
   ]
  },
  {
   "cell_type": "code",
   "execution_count": 81,
   "id": "2b2984d3-bd34-478f-99f0-9424eb483165",
   "metadata": {},
   "outputs": [
    {
     "name": "stdout",
     "output_type": "stream",
     "text": [
      "dic_4={'a': 2, 'b': 3, 'c': 6, 'd': 0, 0: 'point_a', 1: 'point_b', 2: 'point_c', 3: 'point_d'}\n",
      "dict((i,v) for i,v in enumerate(lst_c))->{0: 'point_a', 1: 'point_b', 2: 'point_c', 3: 'point_d'}\n",
      "______________________________________________________________________________________________________________________________________________________________________________________________________________________________________________________________________________________________________________________________________________________________________________________________________________________________________________________________________________________________________________________________________________________________________________________________________________________________________________________________________________________________________________________________________________________________________________________________________________________\n",
      "0:0,point_a\n",
      "1:1,point_b\n",
      "2:2,point_c\n",
      "3:3,point_d\n"
     ]
    }
   ],
   "source": [
    "lst_c=['point_a','point_b','point_c','point_d']\n",
    "dic_0={}\n",
    "for idx,value in enumerate(lst_c):\n",
    "    dic_4[idx]=value\n",
    "print(\"dic_4={}\".format(dic_4))\n",
    "print(\"dict((i,v) for i,v in enumerate(lst_c))->{}\".format(dict((i,v) for i,v in enumerate(lst_c)))) #list comprehension\n",
    "print(\"_\"*790)\n",
    "for i,(a,b) in enumerate(zip(lst_a,lst_b)):\n",
    "    print('%d:%s,%s'%(i,a,b))\n"
   ]
  },
  {
   "cell_type": "code",
   "execution_count": 82,
   "id": "2b940f43-5225-4f05-a358-585ac789e864",
   "metadata": {},
   "outputs": [
    {
     "name": "stdout",
     "output_type": "stream",
     "text": [
      "[x*x for x in range(7,523,8) if x%2==0]->[64, 324, 784, 1444, 2304, 3364, 4624, 6084, 7744, 9604, 11664, 13924, 16384, 19044, 21904, 24964, 28224, 31684, 35344, 39204, 43264, 47524, 51984, 56644, 61504, 66564, 71824, 77284, 82944, 88804, 94864, 101124, 107584, 114244, 121104, 128164, 135424]\n",
      "[(x,y) for x in range(3)for y in range(2)]->[(0, 0), (0, 1), (1, 0), (1, 1), (2, 0), (2, 1)]\n",
      "[(x,y) for x,y in zip(range(3),range(2))]->[(0, 0), (1, 1)]\n",
      "[[a for a in range(1,10,3)],2,3,[b for b in range(60,100,7)],[[c for c in range(1000,2000,120)],3,9]]->[[1, 4, 7, 10, 13, 16, 19, 22, 25, 28, 31, 34, 37, 40, 43, 46, 49, 52, 55, 58, 61, 64, 67, 70, 73, 76, 79, 82, 85, 88, 91, 94, 97], 2, 3, [60, 67, 74, 81, 88, 95], [[1000, 1120, 1240, 1360, 1480, 1600, 1720, 1840, 1960], 3, 9]]\n",
      "flatten_lst(nested_list)->[1, 4, 7, 10, 13, 16, 19, 22, 25, 28, 31, 34, 37, 40, 43, 46, 49, 52, 55, 58, 61, 64, 67, 70, 73, 76, 79, 82, 85, 88, 91, 94, 97, 2, 3, 60, 67, 74, 81, 88, 95, 1000, 1120, 1240, 1360, 1480, 1600, 1720, 1840, 1960, 3, 9]\n"
     ]
    }
   ],
   "source": [
    "print(\"[x*x for x in range(7,523,8) if x%2==0]->{}\".format([x*x for x in range(3,377,5) if x%2==0]))\n",
    "print(\"[(x,y) for x in range(3)for y in range(2)]->{}\".format([(x,y) for x in range(3)for y in range(2)]))\n",
    "print(\"[(x,y) for x,y in zip(range(3),range(2))]->{}\".format([(x,y) for x,y in zip(range(3),range(2))]))\n",
    "nested_list=[[a for a in range(1,100,3)],2,3,[b for b in range(60,100,7)],[[c for c in range(1000,2000,120)],3,9]]\n",
    "print(\"[[a for a in range(1,10,3)],2,3,[b for b in range(60,100,7)],[[c for c in range(1000,2000,120)],3,9]]->{}\".format(nested_list)) #嵌套列表推导式\n",
    "\n",
    "flatten_lst=lambda lst: [m for n_lst in lst for m in flatten_lst(n_lst)] if type(lst) is list else [lst] #展平列表常用，可以放置到单独的.py文件中调用。lambda函数后文阐述\n",
    "print(\"flatten_lst(nested_list)->{}\".format(flatten_lst(nested_list)))\n"
   ]
  },
  {
   "cell_type": "code",
   "execution_count": 84,
   "id": "91b5465b-7e8c-42d4-b520-20c2b6b2331c",
   "metadata": {},
   "outputs": [
    {
     "name": "stdout",
     "output_type": "stream",
     "text": [
      "x==y->True\n",
      "x is y->True\n",
      "x==z->False\n",
      "x is z->False\n",
      "x is not y->False\n",
      "x is not z->True\n",
      "id_x:2604981412672;id_y:2604981412672;id_z:2604981412928\n",
      "x=[3, 6, 10, 17, 23],y=[3, 6, 10, 17, 23],z=[3, 6, 9] after del x[2]\n"
     ]
    }
   ],
   "source": [
    "x=y=[3,6,8,10,17,23]\n",
    "z=[3,6,9]\n",
    "print(\"x==y->{}\".format(x==y))\n",
    "print(\"x is y->{}\".format(x is y))\n",
    "print(\"x==z->{}\".format(x==z))\n",
    "print(\"x is z->{}\".format(x is z))\n",
    "print(\"x is not y->{}\".format(x is not y))\n",
    "print(\"x is not z->{}\".format(x is not z))\n",
    "print(\"id_x:{};id_y:{};id_z:{}\".format(id(x),id(y),id(z))) #Memory Location\n",
    "\n",
    "del x[2]\n",
    "print(\"x={},y={},z={} after del x[2]\".format(x,y,z))\n"
   ]
  },
  {
   "cell_type": "code",
   "execution_count": 85,
   "id": "4e8c31e8-6728-4ed5-a01b-ef0eb94fac73",
   "metadata": {},
   "outputs": [
    {
     "name": "stdout",
     "output_type": "stream",
     "text": [
      "3 in x->True\n",
      "0 in x->False\n",
      "3 not in x->False\n",
      "0 not in x->True\n"
     ]
    }
   ],
   "source": [
    "x=[3,6,9,]\n",
    "print(\"3 in x->{}\".format(3 in x))\n",
    "print(\"0 in x->{}\".format(0 in x))\n",
    "print(\"3 not in x->{}\".format(3 not in x))\n",
    "print(\"0 not in x->{}\".format(0 not in x))\n"
   ]
  },
  {
   "cell_type": "code",
   "execution_count": 88,
   "id": "3201f41c-fcb4-4656-999f-a4f3238a9843",
   "metadata": {},
   "outputs": [
    {
     "name": "stdout",
     "output_type": "stream",
     "text": [
      "a<c<b ahhh\n"
     ]
    }
   ],
   "source": [
    "a,b,c=0,10,15\n",
    "if c>a and c<b:\n",
    "    print('a<c<b')\n",
    "else: print('a<c<b ahhh')\n"
   ]
  },
  {
   "cell_type": "code",
   "execution_count": 206,
   "id": "cd9c6e59-afeb-4c0a-9960-ac87e950fd02",
   "metadata": {},
   "outputs": [
    {
     "name": "stdout",
     "output_type": "stream",
     "text": [
      "fibonacci(6,9)->[5, 8, 13, 21, 34, 55, 89, 144, 233, 377, 610, 987]\n",
      "fibonacci(7,9)->[8, 13, 21, 34, 55, 89, 144, 233, 377]\n"
     ]
    }
   ],
   "source": [
    "def fibonacci(s,count): #定义fib函数的方法较笨\n",
    "    fib_lst=[0,1]\n",
    "    fib_part=[]\n",
    "    if s==0 or s==3:\n",
    "        fib_part[:]=fib_lst\n",
    "        for i in range(count-2):\n",
    "            fib_part.append(fib_part[-1]+fib_part[-2])\n",
    "    else:\n",
    "        while True:\n",
    "            fib_lst[:]=[fib_lst[1],fib_lst[0]+fib_lst[1]]\n",
    "            #print(fib_lst)\n",
    "            if fib_lst[1]-s>=0:break\n",
    "        fib_part[:]=fib_lst\n",
    "        if abs(fib_lst[0]-s)>=abs(fib_lst[1]-s):\n",
    "            for i in range(count-1):\n",
    "                fib_part.append(fib_part[-1]+fib_part[-2])\n",
    "            fib_part.pop(0)\n",
    "        else:\n",
    "            for i in range(count-2):\n",
    "                fib_part.append(fib_part[-1]+fib_part[-2])\n",
    "    return fib_part\n",
    "\n",
    "print(\"fibonacci(6,9)->{}\".format(fibonacci(6,12)))\n",
    "print(\"fibonacci(7,9)->{}\".format(fibonacci(7,9)))\n"
   ]
  },
  {
   "cell_type": "code",
   "execution_count": 89,
   "id": "9a86b70f-02d2-412e-9103-687df29bb80b",
   "metadata": {},
   "outputs": [
    {
     "name": "stdout",
     "output_type": "stream",
     "text": [
      "1307674368000\n"
     ]
    }
   ],
   "source": [
    "def factorial(n):\n",
    "    if n==1:\n",
    "        return 1\n",
    "    else:\n",
    "        return n*factorial(n-1)\n",
    "print(factorial(15))\n"
   ]
  },
  {
   "cell_type": "code",
   "execution_count": 211,
   "id": "c4a3f59c-db1a-4d08-bd89-f510d4e5d35d",
   "metadata": {},
   "outputs": [],
   "source": [
    "class Bird:\n",
    "    fly='Whirring' #美 /wɜːr/ \n",
    "    def __init__(self):\n",
    "        self.hungry=True\n",
    "    def eat(self):\n",
    "        if self.hungry:\n",
    "            print('wayu')\n",
    "            self.hungry=False\n",
    "        else:\n",
    "            print('No.Thanks!')\n",
    "\n",
    "class Apodidae(Bird):  #/'æpədədi:/\n",
    "    def __init__(self):\n",
    "        super(Apodidae,self).__init__()\n",
    "        self.sound='Squawk!' #美 /skwɔːk/ \n",
    "    def sing(self):\n",
    "        print(self.sound)\n"
   ]
  },
  {
   "cell_type": "code",
   "execution_count": 214,
   "id": "78ea741b-1f2e-4de3-9390-4642506a1a9d",
   "metadata": {},
   "outputs": [
    {
     "name": "stdout",
     "output_type": "stream",
     "text": [
      "swift.fly->Whirring\n",
      "swift.eat()->\n",
      "wayu\n",
      "swift.eat()->\n",
      "No.Thanks!\n",
      "swift.sing()->\n",
      "Squawk!\n"
     ]
    }
   ],
   "source": [
    "swift=Apodidae()\n",
    "print(\"swift.fly->{}\".format(swift.fly))\n",
    "print(\"swift.eat()->\")\n",
    "swift.eat()\n",
    "print(\"swift.eat()->\")\n",
    "swift.eat()\n",
    "print(\"swift.sing()->\")\n",
    "swift.sing()\n"
   ]
  },
  {
   "cell_type": "code",
   "execution_count": 215,
   "id": "9b042da3-1be3-4055-ad64-73a2e73d204f",
   "metadata": {},
   "outputs": [
    {
     "name": "stdout",
     "output_type": "stream",
     "text": [
      "blackswift.sing()->\n",
      "Squawk!\n",
      "scarceswift.sing()->\n",
      "Squawk!\n"
     ]
    }
   ],
   "source": [
    "blackswift=Apodidae()\n",
    "scarceswift=Apodidae()\n",
    "print(\"blackswift.sing()->\")\n",
    "blackswift.sing()\n",
    "print(\"scarceswift.sing()->\")\n",
    "scarceswift.sing()\n"
   ]
  },
  {
   "cell_type": "code",
   "execution_count": 218,
   "id": "e274853f-5920-447d-8cab-65821d217027",
   "metadata": {},
   "outputs": [
    {
     "name": "stdout",
     "output_type": "stream",
     "text": [
      "blackswift.fly->humming\n",
      "blackswift.fly after redefining the blackswif's attribute->humming\n",
      "scarceswift.fly->Whirring\n"
     ]
    }
   ],
   "source": [
    "print(\"blackswift.fly->{}\".format(blackswift.fly))\n",
    "blackswift.fly='humming' #重新赋予实例的属性\n",
    "print(\"blackswift.fly after redefining the blackswif's attribute->{}\".format(blackswift.fly))\n",
    "print(\"scarceswift.fly->{}\".format(scarceswift.fly))\n"
   ]
  },
  {
   "cell_type": "code",
   "execution_count": 220,
   "id": "382a255c-38e5-46ff-bb01-ca7c6bc23aa3",
   "metadata": {},
   "outputs": [
    {
     "name": "stdout",
     "output_type": "stream",
     "text": [
      "Help on class Bird in module __main__:\n",
      "\n",
      "class Bird(builtins.object)\n",
      " |  Methods defined here:\n",
      " |  \n",
      " |  __init__(self)\n",
      " |      Initialize self.  See help(type(self)) for accurate signature.\n",
      " |  \n",
      " |  eat(self)\n",
      " |  \n",
      " |  ----------------------------------------------------------------------\n",
      " |  Data descriptors defined here:\n",
      " |  \n",
      " |  __dict__\n",
      " |      dictionary for instance variables (if defined)\n",
      " |  \n",
      " |  __weakref__\n",
      " |      list of weak references to the object (if defined)\n",
      " |  \n",
      " |  ----------------------------------------------------------------------\n",
      " |  Data and other attributes defined here:\n",
      " |  \n",
      " |  fly = 'Whirring'\n",
      "\n"
     ]
    }
   ],
   "source": [
    "help(Bird)\n"
   ]
  },
  {
   "cell_type": "code",
   "execution_count": 221,
   "id": "05b15188-25d1-4ba9-b3f1-036b359139ab",
   "metadata": {},
   "outputs": [
    {
     "name": "stdout",
     "output_type": "stream",
     "text": [
      "Help on class Apodidae in module __main__:\n",
      "\n",
      "class Apodidae(Bird)\n",
      " |  Method resolution order:\n",
      " |      Apodidae\n",
      " |      Bird\n",
      " |      builtins.object\n",
      " |  \n",
      " |  Methods defined here:\n",
      " |  \n",
      " |  __init__(self)\n",
      " |      Initialize self.  See help(type(self)) for accurate signature.\n",
      " |  \n",
      " |  sing(self)\n",
      " |  \n",
      " |  ----------------------------------------------------------------------\n",
      " |  Methods inherited from Bird:\n",
      " |  \n",
      " |  eat(self)\n",
      " |  \n",
      " |  ----------------------------------------------------------------------\n",
      " |  Data descriptors inherited from Bird:\n",
      " |  \n",
      " |  __dict__\n",
      " |      dictionary for instance variables (if defined)\n",
      " |  \n",
      " |  __weakref__\n",
      " |      list of weak references to the object (if defined)\n",
      " |  \n",
      " |  ----------------------------------------------------------------------\n",
      " |  Data and other attributes inherited from Bird:\n",
      " |  \n",
      " |  fly = 'Whirring'\n",
      "\n"
     ]
    }
   ],
   "source": [
    "help(Apodidae)"
   ]
  },
  {
   "cell_type": "code",
   "execution_count": 224,
   "id": "def7327f-fb5b-4fa6-882d-012e8893b358",
   "metadata": {},
   "outputs": [],
   "source": [
    "class Fibs():\n",
    "    def __init__(self):\n",
    "        self.a=5\n",
    "        self.b=10\n",
    "    def next(self):  #实现迭代器的next方法\n",
    "        self.a,self.b=self.b,self.a+self.b\n",
    "        return self.a\n",
    "    def __iter__(self): #实现迭代方法\n",
    "        return self\n"
   ]
  },
  {
   "cell_type": "code",
   "execution_count": 225,
   "id": "4c8dbfec-7f30-4780-9718-9b8fc840f8c4",
   "metadata": {},
   "outputs": [
    {
     "name": "stdout",
     "output_type": "stream",
     "text": [
      "fa=[10, 15, 25, 40, 65, 105, 170, 275, 445]\n",
      "fb=[720]\n"
     ]
    }
   ],
   "source": [
    "f=Fibs()\n",
    "fa=[]\n",
    "fb=[]\n",
    "for i in range(9):\n",
    "    fa.append(f.next())\n",
    "print(\"fa={}\".format(fa))\n",
    "for i in range(1):\n",
    "    fb.append(f.next())\n",
    "print(\"fb={}\".format(fb))\n"
   ]
  },
  {
   "cell_type": "code",
   "execution_count": 93,
   "id": "1baa405e-17e7-41d6-b004-47671e9e9bc6",
   "metadata": {},
   "outputs": [
    {
     "name": "stdout",
     "output_type": "stream",
     "text": [
      "lst_e=[[7, 61, 115, 169, 223, 277, 331, 385, 439, 493, 547, 601, 655, 709, 763, 817, 871, 925, 979, 1033, 1087, 1141, 1195, 1249, 1303, 1357, 1411, 1465, 1519, 1573, 1627, 1681, 1735, 1789, 1843, 1897, 1951, 2005, 2059, 2113, 2167, 2221, 2275, 2329, 2383, 2437, 2491, 2545, 2599, 2653, 2707, 2761, 2815, 2869, 2923, 2977, 3031, 3085, 3139, 3193, 3247, 3301, 3355, 3409, 3463, 3517, 3571, 3625], [3, 7, 89, [0, 1, 2, 3, 4], 75]]\n",
      "___________________________________________________________________________\n",
      "flatten_lst=[7, 61, 115, 169, 223, 277, 331, 385, 439, 493, 547, 601, 655, 709, 763, 817, 871, 925, 979, 1033, 1087, 1141, 1195, 1249, 1303, 1357, 1411, 1465, 1519, 1573, 1627, 1681, 1735, 1789, 1843, 1897, 1951, 2005, 2059, 2113, 2167, 2221, 2275, 2329, 2383, 2437, 2491, 2545, 2599, 2653, 2707, 2761, 2815, 2869, 2923, 2977, 3031, 3085, 3139, 3193, 3247, 3301, 3355, 3409, 3463, 3517, 3571, 3625, 3, 7, 89, 0, 1, 2, 3, 4, 75]\n"
     ]
    }
   ],
   "source": [
    "lst_e=[list(range(7,3628,54)),[3,7,89,list(range(5)),75]]\n",
    "print(\"lst_e={}\".format(lst_e))\n",
    "print(\"_\"*75)\n",
    "flatten_lst=[]\n",
    "for v_1 in lst_e:\n",
    "    try:\n",
    "        for v_2 in v_1:\n",
    "            try:\n",
    "                for v_3 in v_2:\n",
    "                    flatten_lst.append(v_3)\n",
    "            except TypeError:\n",
    "                flatten_lst.append(v_2)\n",
    "    except TypeError:\n",
    "        flatten_lst.append(v_1)\n",
    "print(\"flatten_lst={}\".format(flatten_lst))\n"
   ]
  },
  {
   "cell_type": "code",
   "execution_count": 237,
   "id": "3dc7ad5b-b4c6-466c-9eb3-2f8539b42330",
   "metadata": {},
   "outputs": [],
   "source": [
    "def flatten(lst): #定义生成器（包含yield语句的函数）\n",
    "    try: #使用语句try\\except捕捉异常        \n",
    "        for n_lst in lst:  #循环列表            \n",
    "            for m in flatten(n_lst): #使用递归的方法循环子列表                \n",
    "                yield m  #使用yield语句，每次产生多个值，当返回一个值时函数就会被冻结，当再次激活时，从停止的那点开始执行\n",
    "    except TypeError:  #当函数被告知展开一个元素时，引发TypeError异常，生成器返回一个值\n",
    "        yield lst #生成器返回引发异常的一个值        \n"
   ]
  },
  {
   "cell_type": "code",
   "execution_count": 238,
   "id": "efb1923d-57ab-4544-9760-d8a342c33d58",
   "metadata": {},
   "outputs": [
    {
     "name": "stdout",
     "output_type": "stream",
     "text": [
      "list(flatten(lst_e))->[3, 5, 7, 9, 11, 13, 15, 17, 19, 21, 23, 25, 27, 29, 31, 33, 35, 37, 39, 41, 43, 45, 47, 49, 51, 53, 55, 57, 59, 61, 63, 65, 67, 69, 71, 73, 75, 77, 79, 81, 83, 85, 87, 89, 91, 93, 95, 97, 99, 101, 103, 105, 107, 109, 111, 113, 115, 117, 119, 121, 123, 125, 127, 129, 131, 133, 135, 137, 139, 141, 143, 145, 147, 149, 151, 153, 155, 157, 159, 161, 163, 165, 167, 169, 171, 173, 175, 177, 179, 181, 183, 185, 187, 189, 191, 193, 195, 197, 199, 3, 7, 67, 0, 1, 2, 3, 4, 89]\n"
     ]
    }
   ],
   "source": [
    "print(\"list(flatten(lst_e))->{}\".format(list(flatten(lst_e))))\n"
   ]
  },
  {
   "cell_type": "code",
   "execution_count": 241,
   "id": "01410469-4424-4577-a737-eb89b079938e",
   "metadata": {},
   "outputs": [],
   "source": [
    "def infinite():\n",
    "    n=0\n",
    "    while True:\n",
    "        yield 'num#'+str(n)\n",
    "        n+=1\n"
   ]
  },
  {
   "cell_type": "code",
   "execution_count": 246,
   "id": "8d828ef5-034b-4518-aac4-cfcf9a73247f",
   "metadata": {},
   "outputs": [
    {
     "name": "stdout",
     "output_type": "stream",
     "text": [
      "next(n)->num#0\n",
      "next(n)->num#1\n",
      "next(n)->num#2\n",
      "[next(n) for i in range(7)]->['num#3', 'num#4', 'num#5', 'num#6', 'num#7']\n"
     ]
    }
   ],
   "source": [
    "n=infinite()\n",
    "print(\"next(n)->{}\".format(next(n)))\n",
    "print(\"next(n)->{}\".format(next(n)))\n",
    "print(\"next(n)->{}\".format(next(n)))\n",
    "print(\"[next(n) for i in range(7)]->{}\".format([next(n) for i in range(5)]))\n"
   ]
  },
  {
   "cell_type": "code",
   "execution_count": 94,
   "id": "72893f0f-4f44-4795-9302-d1830b2a7ae0",
   "metadata": {},
   "outputs": [
    {
     "name": "stdout",
     "output_type": "stream",
     "text": [
      "[[(5*pi*(2*(u/(n-1))-1),2*pi*(2*(v/(n-1))-1)) for u in range(n)] for v in range(n)]->[[(-6.283185307179586, -6.283185307179586), (-3.141592653589793, -6.283185307179586), (0.0, -6.283185307179586), (3.141592653589793, -6.283185307179586), (6.283185307179586, -6.283185307179586)], [(-6.283185307179586, -3.141592653589793), (-3.141592653589793, -3.141592653589793), (0.0, -3.141592653589793), (3.141592653589793, -3.141592653589793), (6.283185307179586, -3.141592653589793)], [(-6.283185307179586, 0.0), (-3.141592653589793, 0.0), (0.0, 0.0), (3.141592653589793, 0.0), (6.283185307179586, 0.0)], [(-6.283185307179586, 3.141592653589793), (-3.141592653589793, 3.141592653589793), (0.0, 3.141592653589793), (3.141592653589793, 3.141592653589793), (6.283185307179586, 3.141592653589793)], [(-6.283185307179586, 6.283185307179586), (-3.141592653589793, 6.283185307179586), (0.0, 6.283185307179586), (3.141592653589793, 6.283185307179586), (6.283185307179586, 6.283185307179586)]]\n",
      "__________________________________________________\n",
      "([(2*pi*(2*(u/(n-1))-1),2*pi*(2*(v/(n-1))-1)) for u in range(n)] for v in range(n))-><generator object <genexpr> at 0x0000025E84FE7CF0>\n",
      "next(gen)->[(-6.283185307179586, -6.283185307179586), (-3.141592653589793, -6.283185307179586), (0.0, -6.283185307179586), (3.141592653589793, -6.283185307179586), (6.283185307179586, -6.283185307179586)]\n",
      "next(gen)->[(-6.283185307179586, -3.141592653589793), (-3.141592653589793, -3.141592653589793), (0.0, -3.141592653589793), (3.141592653589793, -3.141592653589793), (6.283185307179586, -3.141592653589793)]\n"
     ]
    }
   ],
   "source": [
    "n=5\n",
    "print(\"[[(5*pi*(2*(u/(n-1))-1),2*pi*(2*(v/(n-1))-1)) for u in range(n)] for v in range(n)]->{}\".format([[(2*pi*(2*(u/(n-1))-1),2*pi*(2*(v/(n-1))-1)) for u in range(n)] for v in range(n)]))\n",
    "print(\"_\"*50)\n",
    "print(\"([(2*pi*(2*(u/(n-1))-1),2*pi*(2*(v/(n-1))-1)) for u in range(n)] for v in range(n))->{}\".format(([(2*pi*(2*(u/(n-1))-1),2*pi*(2*(v/(n-1))-1)) for u in range(n)] for v in range(n))))\n",
    "gen=([(2*pi*(2*(u/(n-1))-1),2*pi*(2*(v/(n-1))-1)) for u in range(n)] for v in range(n))\n",
    "print(\"next(gen)->{}\".format(next(gen)))\n",
    "print(\"next(gen)->{}\".format(next(gen)))\n"
   ]
  },
  {
   "cell_type": "code",
   "execution_count": 262,
   "id": "7a4ff3ba-6bd5-44bd-8698-d9bf535481f7",
   "metadata": {},
   "outputs": [
    {
     "name": "stdout",
     "output_type": "stream",
     "text": [
      "f_convert_a('4.1415')->4.1415\n",
      "f_convert_a('string')->string\n",
      "f_convert_a(3,6,7)->(3, 6, 7)\n"
     ]
    }
   ],
   "source": [
    "def f_convert_a(x):\n",
    "    try:\n",
    "        return float(x)\n",
    "    except:\n",
    "        return x\n",
    "print(\"f_convert_a('4.1415')->{}\".format(f_convert_a('4.1415')))    \n",
    "print(\"f_convert_a('string')->{}\".format(f_convert_a('string')))  \n",
    "print(\"f_convert_a(3,6,7)->{}\".format(f_convert_a((3,6,7))))  \n"
   ]
  },
  {
   "cell_type": "code",
   "execution_count": null,
   "id": "45b2dfce-1a81-46fc-886f-44b5238e6d6a",
   "metadata": {},
   "outputs": [],
   "source": [
    "def f_convert_b(x):\n",
    "    try:\n",
    "        return float(x)\n",
    "    except ValueError:\n",
    "        return x\n",
    "print(\"f_convert_b('3.1415')->{}\".format(f_convert_b('3.1415')))    \n",
    "print(\"f_convert_b('string')->{}\".format(f_convert_b('string')))  \n",
    "print(\"f_convert_b(3,6,7)->{}\".format(f_convert_b((3,6,7))))  \n"
   ]
  },
  {
   "cell_type": "code",
   "execution_count": null,
   "id": "1cdc3c60-e37e-4659-90d7-c3ec75749797",
   "metadata": {},
   "outputs": [],
   "source": [
    "try:\n",
    "    do something\n",
    "except TypeError:\n",
    "    do something\n",
    "except ValueError:\n",
    "    do something\n"
   ]
  },
  {
   "cell_type": "code",
   "execution_count": null,
   "id": "0f894859-6173-453c-83ba-cbe8abea1b52",
   "metadata": {},
   "outputs": [],
   "source": [
    "def f_convert_c(x):\n",
    "    try:\n",
    "        return float(x)\n",
    "    except ValueError:\n",
    "        return x\n",
    "    except TypeError:\n",
    "        print(x,'TypeError')\n",
    "print(\"f_convert_c('3.1415')->{}\".format(f_convert_c('3.1415')))    \n",
    "print(\"f_convert_c('string')->{}\".format(f_convert_c('string')))  \n",
    "print(\"f_convert_c(3,6,7)->{}\".format(f_convert_c((3,6,7))))         \n"
   ]
  },
  {
   "cell_type": "code",
   "execution_count": 96,
   "id": "eb3d95d4-8814-425a-9eae-f40756667504",
   "metadata": {},
   "outputs": [
    {
     "name": "stdout",
     "output_type": "stream",
     "text": [
      "1534\n"
     ]
    }
   ],
   "source": [
    "#!/usr/bin/python\n",
    "# -*- coding: UTF-8 -*-\n",
    " \n",
    "x2 = 1\n",
    "for day in range(9,0,-1):\n",
    "    x1 = (x2 + 1) * 2\n",
    "    x2 = x1\n",
    "print (x1)"
   ]
  },
  {
   "cell_type": "code",
   "execution_count": 97,
   "id": "88e932bc-08be-44cc-afee-0bac6817bdb4",
   "metadata": {},
   "outputs": [
    {
     "name": "stdout",
     "output_type": "stream",
     "text": [
      "   *\n",
      "  ***\n",
      " *****\n",
      "*******\n",
      " *****\n",
      "  ***\n",
      "   *\n"
     ]
    }
   ],
   "source": [
    "#!/usr/bin/python\n",
    "# -*- coding: UTF-8 -*-\n",
    " \n",
    "from sys import stdout\n",
    "for i in range(4):\n",
    "    for j in range(2 - i + 1):\n",
    "        stdout.write(' ')\n",
    "    for k in range(2 * i + 1):\n",
    "        stdout.write('*')\n",
    "    print('')\n",
    " \n",
    "for i in range(3):\n",
    "    for j in range(i + 1):\n",
    "        stdout.write(' ')\n",
    "    for k in range(4 - 2 * i + 1):\n",
    "        stdout.write('*')\n",
    "    print('')"
   ]
  },
  {
   "cell_type": "code",
   "execution_count": 98,
   "id": "ca4bf35e-a8e5-4794-b28c-0bd882438739",
   "metadata": {},
   "outputs": [
    {
     "name": "stdout",
     "output_type": "stream",
     "text": [
      "32.66026079864164\n"
     ]
    }
   ],
   "source": [
    "#!/usr/bin/python\n",
    "# -*- coding: UTF-8 -*-\n",
    " \n",
    "a = 2.0\n",
    "b = 1.0\n",
    "s = 0\n",
    "for n in range(1,21):\n",
    "    s += a / b\n",
    "    t = a\n",
    "    a = a + b\n",
    "    b = t\n",
    "print (s)"
   ]
  },
  {
   "cell_type": "code",
   "execution_count": 99,
   "id": "807ecf7d-1b89-481e-b655-849c830f3838",
   "metadata": {},
   "outputs": [
    {
     "ename": "TypeError",
     "evalue": "'int' object is not callable",
     "output_type": "error",
     "traceback": [
      "\u001b[1;31m---------------------------------------------------------------------------\u001b[0m",
      "\u001b[1;31mTypeError\u001b[0m                                 Traceback (most recent call last)",
      "\u001b[1;32m<ipython-input-99-2677a512ec0f>\u001b[0m in \u001b[0;36m<module>\u001b[1;34m\u001b[0m\n\u001b[0;32m      9\u001b[0m         \u001b[0mr\u001b[0m \u001b[1;33m*=\u001b[0m \u001b[0mi\u001b[0m\u001b[1;33m\u001b[0m\u001b[1;33m\u001b[0m\u001b[0m\n\u001b[0;32m     10\u001b[0m     \u001b[1;32mreturn\u001b[0m \u001b[0mr\u001b[0m\u001b[1;33m\u001b[0m\u001b[1;33m\u001b[0m\u001b[0m\n\u001b[1;32m---> 11\u001b[1;33m \u001b[0ms\u001b[0m \u001b[1;33m=\u001b[0m \u001b[0msum\u001b[0m\u001b[1;33m(\u001b[0m\u001b[0mmap\u001b[0m\u001b[1;33m(\u001b[0m\u001b[0mop\u001b[0m\u001b[1;33m,\u001b[0m\u001b[0ml\u001b[0m\u001b[1;33m)\u001b[0m\u001b[1;33m)\u001b[0m\u001b[1;33m\u001b[0m\u001b[1;33m\u001b[0m\u001b[0m\n\u001b[0m\u001b[0;32m     12\u001b[0m \u001b[0mprint\u001b[0m \u001b[1;33m(\u001b[0m\u001b[1;34m'1! + 2! + 3! + ... + 20! = %d'\u001b[0m \u001b[1;33m%\u001b[0m \u001b[0ms\u001b[0m\u001b[1;33m)\u001b[0m\u001b[1;33m\u001b[0m\u001b[1;33m\u001b[0m\u001b[0m\n",
      "\u001b[1;31mTypeError\u001b[0m: 'int' object is not callable"
     ]
    }
   ],
   "source": [
    "#!/usr/bin/python\n",
    "# -*- coding: UTF-8 -*-\n",
    " \n",
    "s = 0\n",
    "l = range(1,21)\n",
    "def op(x):\n",
    "    r = 1\n",
    "    for i in range(1,x + 1):\n",
    "        r *= i\n",
    "    return r\n",
    "s = sum(map(op,l))\n",
    "print ('1! + 2! + 3! + ... + 20! = %d' % s)"
   ]
  },
  {
   "cell_type": "code",
   "execution_count": 100,
   "id": "40926495-360b-4775-8f40-47a7da290763",
   "metadata": {},
   "outputs": [
    {
     "name": "stdout",
     "output_type": "stream",
     "text": [
      "120\n"
     ]
    }
   ],
   "source": [
    "#!/usr/bin/python\n",
    "# -*- coding: UTF-8 -*-\n",
    " \n",
    "def fact(j):\n",
    "    sum = 0\n",
    "    if j == 0:\n",
    "        sum = 1\n",
    "    else:\n",
    "        sum = j * fact(j - 1)\n",
    "    return sum\n",
    " \n",
    "print (fact(5))"
   ]
  },
  {
   "cell_type": "code",
   "execution_count": 101,
   "id": "06375b2b-465b-4c2f-9f65-a30919d7ba03",
   "metadata": {},
   "outputs": [
    {
     "name": "stdout",
     "output_type": "stream",
     "text": [
      "18\n"
     ]
    }
   ],
   "source": [
    "#!/usr/bin/python\n",
    "# -*- coding: UTF-8 -*-\n",
    " \n",
    "def age(n):\n",
    "    if n == 1: c = 10\n",
    "    else: c = age(n - 1) + 2\n",
    "    return c\n",
    "print (age(5))"
   ]
  },
  {
   "cell_type": "code",
   "execution_count": null,
   "id": "7d397efb-4d55-4748-89d6-65e55b522039",
   "metadata": {},
   "outputs": [],
   "source": []
  }
 ],
 "metadata": {
  "kernelspec": {
   "display_name": "Python 3",
   "language": "python",
   "name": "python3"
  },
  "language_info": {
   "codemirror_mode": {
    "name": "ipython",
    "version": 3
   },
   "file_extension": ".py",
   "mimetype": "text/x-python",
   "name": "python",
   "nbconvert_exporter": "python",
   "pygments_lexer": "ipython3",
   "version": "3.8.8"
  }
 },
 "nbformat": 4,
 "nbformat_minor": 5
}
